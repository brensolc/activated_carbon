{
  "nbformat": 4,
  "nbformat_minor": 0,
  "metadata": {
    "colab": {
      "name": "ProCoDa.ipynb",
      "provenance": [],
      "authorship_tag": "ABX9TyMHx2nRoTE8nnMof81T9gJ0",
      "include_colab_link": true
    },
    "kernelspec": {
      "name": "python3",
      "display_name": "Python 3"
    }
  },
  "cells": [
    {
      "cell_type": "markdown",
      "metadata": {
        "id": "view-in-github",
        "colab_type": "text"
      },
      "source": [
        "<a href=\"https://colab.research.google.com/github/brensolc/activated_carbon/blob/master/ProCoDa.ipynb\" target=\"_parent\"><img src=\"https://colab.research.google.com/assets/colab-badge.svg\" alt=\"Open In Colab\"/></a>"
      ]
    },
    {
      "cell_type": "code",
      "metadata": {
        "id": "LdGlrm3PqsXZ",
        "colab_type": "code",
        "colab": {}
      },
      "source": [
        "# UPFLOW VELOCITY \n",
        "# Diameter of reactor tube\n",
        "D = 1 * u.inch\n",
        "# Area of reactor tube\n",
        "A = ac.area_circle(D)\n",
        "# Input upflow velocity\n",
        "v_up = 1 * u.mm/u.s\n",
        "# Flow rate into reactor\n",
        "Qr = (A*v_up).to(u.mL/u.s)\n",
        "print(\"The water flow is\" ,Qr)\n",
        "# Height of reactor\n",
        "H_reactor = 50 * u.inch\n",
        "# Volume of reactor\n",
        "def volume (D, H_reactor):\n",
        "  return (m.pi * (D**2)*H_reactor/4).to(u.mL)\n",
        "V = volume (D, H_reactor)\n",
        "print(\"The volume of reactor is\" ,V)\n",
        "# Residence time in reactor\n",
        "TR = (V/Qr).to(u.min)\n",
        "print(\"The residence time in reactor is\" ,TR)\n",
        "#PACl\n",
        "# Concentration of PACl stock \n",
        "CPACl_stock = 5000*u.mg/u.L\n",
        "# Input concentration of PACl in the reactor \n",
        "CPACl_reactor = 8 * u.mg/u.L\n",
        "# Coagulant microtubing (blue-yellow)\n",
        "tube = 0.173 * u.mL/u.revolutions\n",
        "# Flow rate of PACl in mL/s\n",
        "Q_PACl_stock = Qr * (CPACl_reactor/CPACl_stock)\n",
        "print(\"The flow rate of PACl to set into ProCoDa is:\" + str(Q_PACl_stock))\n",
        "Q_PACl_stock_rpm = (Q_PACl_stock/tube)*60 * u.s/u.min\n",
        "print(\"PACl in rpm is:\" + str(Q_PACl_stock_rpm))\n",
        "# Humic Acid\n",
        "# Concentration  of humic acid stock \n",
        "C_HA_stock = 1000 * u.mg/u.L\n",
        "# Input concentration of humic acid in the reactor \n",
        "C_HA_reactor =  8 * u.mg/u.L\n",
        "# Humic acid microtubing (blue-yellow)\n",
        "tube = 0.173 * u.mL/u.revolutions \n",
        "# Flow rate of PACl in mL/s\n",
        "Q_HA_stock = Qr*(C_HA_reactor/C_HA_stock)\n",
        "print(\"The flow rate of humic acid to set in ProCoDa is:\" +str(Q_HA_stock))\n",
        "# Flow rate of humic acid in RPM \n",
        "Q_HA_stock_rpm = (Q_HA_stock/tube)*60 * u.s/u.min\n",
        "print(\"Humic acid pump should be set at:\" +str(Q_HA_stock_rpm))\n",
        "# Powdered Activated Carbon (PAC)\n",
        "# Concentration of PAC stock\n",
        "C_PAC_stock = 5000*u.mg/u.L\n",
        "# Input concentration of PAC in the reactor\n",
        "C_PAC_reactor = 10 * u.mg/u.L\n",
        "# PAC microtubing (blue-yellow)\n",
        "tube = 0.173 * u.mL/u.revolutions\n",
        "# Flow rate of PAC in mL/s\n",
        "Q_PAC_stock = Qr*(C_PAC_reactor/C_PAC_stock)\n",
        "print(\"PAC should be set in ProCoDa to:\" + str(Q_PAC_stock))\n",
        "Q_PAC_stock_rpm = (Q_PAC_stock/tube)*60 * u.s/u.min\n",
        "print(\"PAC in rpm is:\" + str(Q_PAC_stock_rpm))\n",
        "# Water\n",
        "# Flow rate of water in mL/s\n",
        "Q_tap = Qr - 1*Q_PACl_stock - 1*Q_HA_stock - 1*Q_PAC_stock\n",
        "print(\"Water should be set in ProCoDa to:\" +str(Q_tap))\n",
        "water_tube = .875 * u.mL/u.revolutions\n",
        "Q_tap_rpm = (Q_tap/water_tube)*60*u.s/u.min\n",
        "print(\"Water in rpm should be:\" +str(Q_tap_rpm))"
      ],
      "execution_count": 0,
      "outputs": []
    }
  ]
}