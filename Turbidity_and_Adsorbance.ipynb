{
  "nbformat": 4,
  "nbformat_minor": 0,
  "metadata": {
    "colab": {
      "name": "Turbidity and Adsorbance.ipynb",
      "provenance": [],
      "authorship_tag": "ABX9TyOkdgBULocTkgFPtPuErTiq"
    },
    "kernelspec": {
      "name": "python3",
      "display_name": "Python 3"
    }
  },
  "cells": [
    {
      "cell_type": "code",
      "metadata": {
        "id": "Sq_SrEekp8Xy",
        "colab_type": "code",
        "colab": {}
      },
      "source": [
        "#Turbidity and Adsorbance graphs\n",
        "turbidity = \"https://raw.githubusercontent.com/brensolc/activated_carbon/master/Data/trial%208%20turbidity.tsv\"\n",
        "df = pd.read_csv(turbidity, delimiter=\"\\t\" )\n",
        "influent_turbidity = pd.to_numeric(df.iloc[:,2])\n",
        "effluent_turbidity = pd.to_numeric(df.iloc[:,3])\n",
        "time = pd.to_numeric(df.iloc[:,1])/60\n",
        "\n",
        "fig, ax1 = plt.subplots()\n",
        "ax2 = ax1.twinx()\n",
        "turbidity1, = ax1.plot(time, influent_turbidity, label=\"Influent Turbidity\", color='r')\n",
        "turbidity2, = ax2.plot(time, effluent_turbidity, label=\"Effluent Turbidity\", color='b')\n",
        "turbidity = [turbidity1, turbidity2]\n",
        "ax1.set_xlabel(\"Time (minutes)\")\n",
        "ax1.set_ylabel(\"Influent Turbidity (NTU)\")\n",
        "ax2.set_ylabel(\"Effluent Turbidity (NTU)\")\n",
        "ax2.legend(loc=\"upper right\") \n",
        "ax1.legend(loc=\"upper left\") \n",
        "plt.title(\"Turbidity using coagulant dose of 8 mg/L\", fontsize=16)\n",
        "plt.show()\n",
        "\n",
        "adsorbance = \"https://raw.githubusercontent.com/brensolc/activated_carbon/master/Data/trial%208%20adsorbance.csv\"\n",
        "df = pd.read_csv(adsorbance, delimiter=\"\\;\")\n",
        "effluent_adsorbance = pd.to_numeric(df.iloc[:,2])\n",
        "time = pd.to_numeric(df.iloc[:,1])\n",
        "plt.plot(time, effluent_adsorbance)\n",
        "plt.xlabel(\"Time (minutes\")\n",
        "plt.ylabel(\"Adsorbance 254 nm\")\n",
        "plt.title(\"Adsorbance with coagulant dose of 8 mg/L\" ,fontsize=16)\n",
        "plt.show()"
      ],
      "execution_count": 0,
      "outputs": []
    }
  ]
}